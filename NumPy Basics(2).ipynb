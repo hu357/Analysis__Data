{
 "cells": [
  {
   "cell_type": "markdown",
   "metadata": {},
   "source": [
    "## 4.3.1 Expressing Conditional Logic as Array Operations 将条件逻辑作为数组操作"
   ]
  },
  {
   "cell_type": "code",
   "execution_count": 1,
   "metadata": {},
   "outputs": [
    {
     "data": {
      "text/plain": [
       "[1.1000000000000001, 2.2000000000000002, 1.3, 1.3999999999999999, 2.5]"
      ]
     },
     "execution_count": 1,
     "metadata": {},
     "output_type": "execute_result"
    }
   ],
   "source": [
    "import numpy as np\n",
    "xarr=np.array([1.1,1.2,1.3,1.4,1.5])\n",
    "yarr=np.array([2.1,2.2,2.3,2.4,2.5])\n",
    "cond=np.array([True,False,True,True,False])\n",
    "result=[(x if c else y)  ##if满足，要x，if不满足，要y\n",
    "       for x,y,c in zip(xarr,yarr,cond)]  \n",
    "result\n"
   ]
  },
  {
   "cell_type": "markdown",
   "metadata": {
    "collapsed": true
   },
   "source": [
    "#### 有局限，数组大的话会很慢(所有的工作都是通过解释器解释Python代码完成)，当数组是多维的时候就无法奏效了，即用where"
   ]
  },
  {
   "cell_type": "code",
   "execution_count": 2,
   "metadata": {},
   "outputs": [
    {
     "data": {
      "text/plain": [
       "array([ 1.1,  2.2,  1.3,  1.4,  2.5])"
      ]
     },
     "execution_count": 2,
     "metadata": {},
     "output_type": "execute_result"
    }
   ],
   "source": [
    "result=np.where(cond,xarr,yarr)  #判断，如果是xarr，如果不是yarr\n",
    "result"
   ]
  },
  {
   "cell_type": "code",
   "execution_count": 3,
   "metadata": {},
   "outputs": [
    {
     "data": {
      "text/plain": [
       "array([[-0.45072619,  0.64397321,  0.11246754, -1.08307635],\n",
       "       [-1.23786822,  0.12944925, -0.15936045,  0.29381658],\n",
       "       [ 0.13577825, -0.41002855, -0.57705017,  1.14041857],\n",
       "       [-1.14870277,  0.57282119,  0.25506182, -1.37773898]])"
      ]
     },
     "execution_count": 3,
     "metadata": {},
     "output_type": "execute_result"
    }
   ],
   "source": [
    "arr=np.random.randn(4,4)\n",
    "arr"
   ]
  },
  {
   "cell_type": "code",
   "execution_count": 4,
   "metadata": {},
   "outputs": [
    {
     "data": {
      "text/plain": [
       "array([[False,  True,  True, False],\n",
       "       [False,  True, False,  True],\n",
       "       [ True, False, False,  True],\n",
       "       [False,  True,  True, False]], dtype=bool)"
      ]
     },
     "execution_count": 4,
     "metadata": {},
     "output_type": "execute_result"
    }
   ],
   "source": [
    "arr>0"
   ]
  },
  {
   "cell_type": "code",
   "execution_count": 5,
   "metadata": {},
   "outputs": [
    {
     "data": {
      "text/plain": [
       "array([[-2,  2,  2, -2],\n",
       "       [-2,  2, -2,  2],\n",
       "       [ 2, -2, -2,  2],\n",
       "       [-2,  2,  2, -2]])"
      ]
     },
     "execution_count": 5,
     "metadata": {},
     "output_type": "execute_result"
    }
   ],
   "source": [
    "np.where(arr>0,2,-2)"
   ]
  },
  {
   "cell_type": "code",
   "execution_count": 7,
   "metadata": {},
   "outputs": [
    {
     "data": {
      "text/plain": [
       "array([[-0.45072619,  2.        ,  2.        , -1.08307635],\n",
       "       [-1.23786822,  2.        , -0.15936045,  2.        ],\n",
       "       [ 2.        , -0.41002855, -0.57705017,  2.        ],\n",
       "       [-1.14870277,  2.        ,  2.        , -1.37773898]])"
      ]
     },
     "execution_count": 7,
     "metadata": {},
     "output_type": "execute_result"
    }
   ],
   "source": [
    "np.where(arr>0,2,arr)\n",
    "#  set only positive values to 2\n",
    "#  大于零的数变成2"
   ]
  },
  {
   "cell_type": "markdown",
   "metadata": {},
   "source": [
    "## 4.3.2 Mathematical and Statistical Methods 数学和统计学方法"
   ]
  },
  {
   "cell_type": "code",
   "execution_count": 10,
   "metadata": {},
   "outputs": [
    {
     "data": {
      "text/plain": [
       "array([[ 0,  1,  2,  3],\n",
       "       [ 4,  5,  6,  7],\n",
       "       [ 8,  9, 10, 11],\n",
       "       [12, 13, 14, 15],\n",
       "       [16, 17, 18, 19]])"
      ]
     },
     "execution_count": 10,
     "metadata": {},
     "output_type": "execute_result"
    }
   ],
   "source": [
    "arr=np.arange(20).reshape(5,4)  #  axis0，就是5，axis1，就是4\n",
    "arr  #  你这里生出来的点(0,0)一直到(5,4)"
   ]
  },
  {
   "cell_type": "code",
   "execution_count": 11,
   "metadata": {},
   "outputs": [
    {
     "data": {
      "text/plain": [
       "9.5"
      ]
     },
     "execution_count": 11,
     "metadata": {},
     "output_type": "execute_result"
    }
   ],
   "source": [
    "arr.mean()  # 平均数"
   ]
  },
  {
   "cell_type": "code",
   "execution_count": 12,
   "metadata": {},
   "outputs": [
    {
     "data": {
      "text/plain": [
       "9.5"
      ]
     },
     "execution_count": 12,
     "metadata": {},
     "output_type": "execute_result"
    }
   ],
   "source": [
    "np.mean(arr)  # 平均数，这么写也可以(0+19)/2"
   ]
  },
  {
   "cell_type": "code",
   "execution_count": 13,
   "metadata": {},
   "outputs": [
    {
     "data": {
      "text/plain": [
       "array([  1.5,   5.5,   9.5,  13.5,  17.5])"
      ]
     },
     "execution_count": 13,
     "metadata": {},
     "output_type": "execute_result"
    }
   ],
   "source": [
    "arr.mean(axis=1)  # 每行求平均，每四个数求平均，得到五个数"
   ]
  },
  {
   "cell_type": "code",
   "execution_count": 14,
   "metadata": {},
   "outputs": [
    {
     "data": {
      "text/plain": [
       "array([  8.,   9.,  10.,  11.])"
      ]
     },
     "execution_count": 14,
     "metadata": {},
     "output_type": "execute_result"
    }
   ],
   "source": [
    "arr.mean(axis=0)  #  五个数求平均，得到四个数(0+16)/2"
   ]
  },
  {
   "cell_type": "markdown",
   "metadata": {},
   "source": [
    "#### arr.mean(1)表示“计算每一列的平均值”；arr.mean(0)表示“计算行轴向的累和”"
   ]
  },
  {
   "cell_type": "code",
   "execution_count": 15,
   "metadata": {},
   "outputs": [
    {
     "data": {
      "text/plain": [
       "array([ 0,  1,  3,  6, 10, 15, 21, 28], dtype=int32)"
      ]
     },
     "execution_count": 15,
     "metadata": {},
     "output_type": "execute_result"
    }
   ],
   "source": [
    "arr=np.array([0,1,2,3,4,5,6,7])\n",
    "arr.cumsum()  # 0,0+1,0+1+2,0+1+2+3"
   ]
  },
  {
   "cell_type": "code",
   "execution_count": 16,
   "metadata": {},
   "outputs": [
    {
     "data": {
      "text/plain": [
       "array([[0, 1, 2],\n",
       "       [3, 4, 5],\n",
       "       [6, 7, 8]])"
      ]
     },
     "execution_count": 16,
     "metadata": {},
     "output_type": "execute_result"
    }
   ],
   "source": [
    "arr=np.array([[0,1,2],[3,4,5],[6,7,8]])\n",
    "arr  #  3*3"
   ]
  },
  {
   "cell_type": "code",
   "execution_count": 17,
   "metadata": {},
   "outputs": [
    {
     "data": {
      "text/plain": [
       "array([[ 0,  1,  2],\n",
       "       [ 3,  5,  7],\n",
       "       [ 9, 12, 15]], dtype=int32)"
      ]
     },
     "execution_count": 17,
     "metadata": {},
     "output_type": "execute_result"
    }
   ],
   "source": [
    "arr.cumsum(axis=0) ## 纵向相加，从0位开始\n",
    "#  [0,1,2]\n",
    "#  [0+3,1+4,2+5]\n",
    "#  [0+3+6,1+4+7,2+5+8]"
   ]
  },
  {
   "cell_type": "code",
   "execution_count": 18,
   "metadata": {},
   "outputs": [
    {
     "data": {
      "text/plain": [
       "array([ 0,  1,  3,  6, 10, 15, 21, 28, 36], dtype=int32)"
      ]
     },
     "execution_count": 18,
     "metadata": {},
     "output_type": "execute_result"
    }
   ],
   "source": [
    "arr.cumsum()  # axis不给值，默认为一维数组"
   ]
  },
  {
   "cell_type": "code",
   "execution_count": 19,
   "metadata": {},
   "outputs": [
    {
     "data": {
      "text/plain": [
       "array([[  0,   0,   0],\n",
       "       [  3,  12,  60],\n",
       "       [  6,  42, 336]], dtype=int32)"
      ]
     },
     "execution_count": 19,
     "metadata": {},
     "output_type": "execute_result"
    }
   ],
   "source": [
    "arr.cumprod(axis=1)  # 从1开始乘积，沿着axis1这个轴，也就是横向\n",
    "# [0, 1, 2]-----[0,0*1,0*1*2]\n",
    "# [3, 4, 5]-----[3,3*4,3*4*5]\n",
    "# [6, 7, 8]-----[6,6*7,6*7*8]"
   ]
  },
  {
   "cell_type": "markdown",
   "metadata": {},
   "source": [
    "## 4.3.3 Methods for Boolean Arrays 布尔值数组的方法"
   ]
  },
  {
   "cell_type": "code",
   "execution_count": 20,
   "metadata": {},
   "outputs": [
    {
     "data": {
      "text/plain": [
       "7"
      ]
     },
     "execution_count": 20,
     "metadata": {},
     "output_type": "execute_result"
    }
   ],
   "source": [
    "arr=np.random.randn(10)\n",
    "(arr>0).sum()\n",
    "#  Number of positive values\n",
    "#  大于零的数，加起来"
   ]
  },
  {
   "cell_type": "code",
   "execution_count": 21,
   "metadata": {},
   "outputs": [
    {
     "data": {
      "text/plain": [
       "True"
      ]
     },
     "execution_count": 21,
     "metadata": {},
     "output_type": "execute_result"
    }
   ],
   "source": [
    "bools=np.array([False,False,True,False])\n",
    "bools.any()  ## 有一个True，这个值就是True，all是全部"
   ]
  },
  {
   "cell_type": "markdown",
   "metadata": {},
   "source": [
    "## 4.3.4 Sorting 排序"
   ]
  },
  {
   "cell_type": "code",
   "execution_count": 22,
   "metadata": {},
   "outputs": [
    {
     "data": {
      "text/plain": [
       "array([-0.97075432,  0.77488516, -0.14352856,  0.14555122, -1.56906335,\n",
       "        1.6127678 ])"
      ]
     },
     "execution_count": 22,
     "metadata": {},
     "output_type": "execute_result"
    }
   ],
   "source": [
    "arr=np.random.randn(6)\n",
    "arr"
   ]
  },
  {
   "cell_type": "code",
   "execution_count": 23,
   "metadata": {},
   "outputs": [
    {
     "data": {
      "text/plain": [
       "array([-1.56906335, -0.97075432, -0.14352856,  0.14555122,  0.77488516,\n",
       "        1.6127678 ])"
      ]
     },
     "execution_count": 23,
     "metadata": {},
     "output_type": "execute_result"
    }
   ],
   "source": [
    "arr.sort()  #  从小到大排序，改变本身\n",
    "arr"
   ]
  },
  {
   "cell_type": "code",
   "execution_count": 25,
   "metadata": {},
   "outputs": [
    {
     "data": {
      "text/plain": [
       "array([[-0.29740443, -0.2662263 ,  0.7277372 ],\n",
       "       [-1.20286102,  0.56333445,  0.28466203],\n",
       "       [ 0.83643454, -0.63092529, -0.86061793],\n",
       "       [ 2.12237147, -0.71971983, -1.65253871],\n",
       "       [ 2.22371193,  0.2379896 , -1.42355494]])"
      ]
     },
     "execution_count": 25,
     "metadata": {},
     "output_type": "execute_result"
    }
   ],
   "source": [
    "arr=np.random.randn(5,3)\n",
    "arr"
   ]
  },
  {
   "cell_type": "code",
   "execution_count": 26,
   "metadata": {},
   "outputs": [
    {
     "data": {
      "text/plain": [
       "array([[-0.29740443, -0.2662263 ,  0.7277372 ],\n",
       "       [-1.20286102,  0.28466203,  0.56333445],\n",
       "       [-0.86061793, -0.63092529,  0.83643454],\n",
       "       [-1.65253871, -0.71971983,  2.12237147],\n",
       "       [-1.42355494,  0.2379896 ,  2.22371193]])"
      ]
     },
     "execution_count": 26,
     "metadata": {},
     "output_type": "execute_result"
    }
   ],
   "source": [
    "arr.sort(1) # 5*3 ,沿着横轴排序\n",
    "arr"
   ]
  },
  {
   "cell_type": "code",
   "execution_count": 27,
   "metadata": {},
   "outputs": [
    {
     "data": {
      "text/plain": [
       "array([[-1.65253871, -0.71971983,  0.56333445],\n",
       "       [-1.42355494, -0.63092529,  0.7277372 ],\n",
       "       [-1.20286102, -0.2662263 ,  0.83643454],\n",
       "       [-0.86061793,  0.2379896 ,  2.12237147],\n",
       "       [-0.29740443,  0.28466203,  2.22371193]])"
      ]
     },
     "execution_count": 27,
     "metadata": {},
     "output_type": "execute_result"
    }
   ],
   "source": [
    "arr.sort(0) #  沿着纵轴排序\n",
    "arr"
   ]
  },
  {
   "cell_type": "code",
   "execution_count": 28,
   "metadata": {},
   "outputs": [
    {
     "data": {
      "text/plain": [
       "-1.5753968642235692"
      ]
     },
     "execution_count": 28,
     "metadata": {},
     "output_type": "execute_result"
    }
   ],
   "source": [
    "large_arr=np.random.randn(1000)\n",
    "large_arr.sort()\n",
    "large_arr[int(0.05*len(large_arr))]  #  排序完了，长度0.05位置的元素取"
   ]
  },
  {
   "cell_type": "markdown",
   "metadata": {},
   "source": [
    "## 4.3.5 Unique and Other Set Logic 唯一值和其他集合逻辑"
   ]
  },
  {
   "cell_type": "code",
   "execution_count": 30,
   "metadata": {},
   "outputs": [
    {
     "data": {
      "text/plain": [
       "array(['Bob', 'Joe', 'Will'],\n",
       "      dtype='<U4')"
      ]
     },
     "execution_count": 30,
     "metadata": {},
     "output_type": "execute_result"
    }
   ],
   "source": [
    "names=np.array(['Bob','Joe','Will','Bob','Will','Joe','Joe'])\n",
    "#  定义一个数组，里面有重复值\n",
    "np.unique(names)\n",
    "#  去掉重复值，每个留一个"
   ]
  },
  {
   "cell_type": "code",
   "execution_count": 31,
   "metadata": {},
   "outputs": [
    {
     "data": {
      "text/plain": [
       "['Bob', 'Joe', 'Will']"
      ]
     },
     "execution_count": 31,
     "metadata": {},
     "output_type": "execute_result"
    }
   ],
   "source": [
    "sorted(set(names))\n",
    "#  Python方法实现\n",
    "#  这里生成了一个列表"
   ]
  },
  {
   "cell_type": "code",
   "execution_count": 34,
   "metadata": {},
   "outputs": [
    {
     "data": {
      "text/plain": [
       "array([ True, False, False,  True,  True, False,  True], dtype=bool)"
      ]
     },
     "execution_count": 34,
     "metadata": {},
     "output_type": "execute_result"
    }
   ],
   "source": [
    "values = np.array([6,0,0,3,2,5,6])\n",
    "np.in1d(values,[2,3,6])\n",
    "#  in1d检查(注意这个是1)第一个数组中的数是不是2或3或6"
   ]
  },
  {
   "cell_type": "markdown",
   "metadata": {},
   "source": [
    "## 4.4 File Input and Output with Arrays 使用数组进行文件输入和输出"
   ]
  },
  {
   "cell_type": "markdown",
   "metadata": {},
   "source": [
    "### NumPy的内建二进制模式\n",
    "### np.save  np.load"
   ]
  },
  {
   "cell_type": "code",
   "execution_count": 36,
   "metadata": {},
   "outputs": [
    {
     "data": {
      "text/plain": [
       "array([0, 1, 2, 3, 4, 5, 6, 7, 8, 9])"
      ]
     },
     "execution_count": 36,
     "metadata": {},
     "output_type": "execute_result"
    }
   ],
   "source": [
    "arr=np.arange(10)\n",
    "np.save('some_array',arr)  #  save 存储，默认未压缩，后缀名.npy\n",
    "np.load('some_array.npy')  #  load 读取"
   ]
  },
  {
   "cell_type": "code",
   "execution_count": 42,
   "metadata": {},
   "outputs": [
    {
     "name": "stdout",
     "output_type": "stream",
     "text": [
      "<numpy.lib.npyio.NpzFile object at 0x000001E1FC457AC8>\n"
     ]
    }
   ],
   "source": [
    "np.savez('array_archive.npz',a=arr,b=arr)  #  savez 默认未压缩，多个数组，后缀名.npz\n",
    "arch=np.load('array_archive.npz')  #  load 读取 ，是个字典\n",
    "print(arch)"
   ]
  },
  {
   "cell_type": "code",
   "execution_count": 43,
   "metadata": {},
   "outputs": [
    {
     "data": {
      "text/plain": [
       "array([0, 1, 2, 3, 4, 5, 6, 7, 8, 9])"
      ]
     },
     "execution_count": 43,
     "metadata": {},
     "output_type": "execute_result"
    }
   ],
   "source": [
    "arch['b']"
   ]
  },
  {
   "cell_type": "code",
   "execution_count": 44,
   "metadata": {
    "collapsed": true
   },
   "outputs": [],
   "source": [
    "np.savez_compressed('array_cpmpressed.npz',a=arr,b=arr)  # 存入压缩文件"
   ]
  },
  {
   "cell_type": "markdown",
   "metadata": {},
   "source": [
    "## 4.5 Liner Algebra 线性函数"
   ]
  },
  {
   "cell_type": "code",
   "execution_count": 45,
   "metadata": {},
   "outputs": [
    {
     "data": {
      "text/plain": [
       "array([[ 1.,  2.,  3.],\n",
       "       [ 4.,  5.,  6.]])"
      ]
     },
     "execution_count": 45,
     "metadata": {},
     "output_type": "execute_result"
    }
   ],
   "source": [
    "x=np.array([[1.,2.,3.],[4.,5.,6.]])  # 2*3\n",
    "y=np.array([[6,23],[-1,7],[8,9]])  #3*2\n",
    "x"
   ]
  },
  {
   "cell_type": "code",
   "execution_count": 46,
   "metadata": {},
   "outputs": [
    {
     "data": {
      "text/plain": [
       "array([[ 6, 23],\n",
       "       [-1,  7],\n",
       "       [ 8,  9]])"
      ]
     },
     "execution_count": 46,
     "metadata": {},
     "output_type": "execute_result"
    }
   ],
   "source": [
    "y"
   ]
  },
  {
   "cell_type": "code",
   "execution_count": 47,
   "metadata": {},
   "outputs": [
    {
     "data": {
      "text/plain": [
       "array([[  28.,   64.],\n",
       "       [  67.,  181.]])"
      ]
     },
     "execution_count": 47,
     "metadata": {},
     "output_type": "execute_result"
    }
   ],
   "source": [
    "x.dot(y) #  点乘"
   ]
  },
  {
   "cell_type": "markdown",
   "metadata": {},
   "source": [
    "### x.dot(y)等价于np.dot(x,y)"
   ]
  },
  {
   "cell_type": "code",
   "execution_count": 48,
   "metadata": {},
   "outputs": [
    {
     "data": {
      "text/plain": [
       "array([  6.,  15.])"
      ]
     },
     "execution_count": 48,
     "metadata": {},
     "output_type": "execute_result"
    }
   ],
   "source": [
    "np.dot(x,np.ones(3))\n",
    "#  np.ones(3) 生成3个1\n",
    "#  2*3与3*1变成2*1"
   ]
  },
  {
   "cell_type": "code",
   "execution_count": 49,
   "metadata": {},
   "outputs": [
    {
     "data": {
      "text/plain": [
       "array([  6.,  15.])"
      ]
     },
     "execution_count": 49,
     "metadata": {},
     "output_type": "execute_result"
    }
   ],
   "source": [
    "x @ np.ones(3)  # 一个意思，用于点乘矩阵"
   ]
  },
  {
   "cell_type": "code",
   "execution_count": 50,
   "metadata": {},
   "outputs": [
    {
     "data": {
      "text/plain": [
       "array([[ 0.11386878, -1.58023468,  2.50239112,  1.15077591, -2.0902408 ],\n",
       "       [ 0.4954309 ,  1.03862239, -0.41836228,  0.75005216,  1.06189578],\n",
       "       [-0.10140644, -1.22450263,  0.99697608, -0.53928115,  1.25249316],\n",
       "       [ 0.19578679, -0.5516644 , -0.85355735, -1.81297388,  1.32386991],\n",
       "       [ 0.28003623,  0.23375983,  1.29885815, -2.49970693,  0.85662295]])"
      ]
     },
     "execution_count": 50,
     "metadata": {},
     "output_type": "execute_result"
    }
   ],
   "source": [
    "from numpy.linalg import inv,qr\n",
    "X=np.random.randn(5,5)\n",
    "X"
   ]
  },
  {
   "cell_type": "code",
   "execution_count": 51,
   "metadata": {},
   "outputs": [
    {
     "data": {
      "text/plain": [
       "array([[  0.38545391,   0.4162513 ,   0.17318692,  -0.4976418 ,\n",
       "          0.66015364],\n",
       "       [  0.4162513 ,   5.43426209,  -4.83518743,   0.03669824,   2.3422107 ],\n",
       "       [  0.17318692,  -4.83518743,   9.84654226,   0.32895991,\n",
       "         -4.44351861],\n",
       "       [ -0.4976418 ,   0.03669824,   0.32895991,  11.71309661,\n",
       "         -6.82581538],\n",
       "       [  0.66015364,   2.3422107 ,  -4.44351861,  -6.82581538,\n",
       "          9.55190279]])"
      ]
     },
     "execution_count": 51,
     "metadata": {},
     "output_type": "execute_result"
    }
   ],
   "source": [
    "mat=X.T.dot(X)  #  转置矩阵 与 X点积\n",
    "mat"
   ]
  },
  {
   "cell_type": "code",
   "execution_count": 52,
   "metadata": {},
   "outputs": [
    {
     "data": {
      "text/plain": [
       "array([[ 4.32103901, -0.67852898, -0.61978666, -0.07193136, -0.47198089],\n",
       "       [-0.67852898,  0.4358676 ,  0.24881267, -0.00802899,  0.05002552],\n",
       "       [-0.61978666,  0.24881267,  0.3102341 ,  0.06457859,  0.17229188],\n",
       "       [-0.07193136, -0.00802899,  0.06457859,  0.17492686,  0.1619851 ],\n",
       "       [-0.47198089,  0.05002552,  0.17229188,  0.1619851 ,  0.32094885]])"
      ]
     },
     "execution_count": 52,
     "metadata": {},
     "output_type": "execute_result"
    }
   ],
   "source": [
    "inv(mat)  #  逆矩阵"
   ]
  },
  {
   "cell_type": "code",
   "execution_count": 55,
   "metadata": {},
   "outputs": [
    {
     "data": {
      "text/plain": [
       "array([[  1.00000000e+00,  -1.86198264e-16,  -4.36075669e-17,\n",
       "         -3.81303969e-17,  -1.87240237e-16],\n",
       "       [  5.52112193e-17,   1.00000000e+00,   5.76777447e-17,\n",
       "          9.84943282e-17,   3.08530975e-16],\n",
       "       [ -2.69836266e-16,  -4.44042439e-16,   1.00000000e+00,\n",
       "          9.11020536e-17,  -3.05234417e-17],\n",
       "       [ -6.95081018e-16,   1.97584789e-16,  -9.41834436e-17,\n",
       "          1.00000000e+00,   1.59999443e-16],\n",
       "       [  1.25043573e-16,  -1.21421889e-16,   5.83106425e-17,\n",
       "          1.11582639e-16,   1.00000000e+00]])"
      ]
     },
     "execution_count": 55,
     "metadata": {},
     "output_type": "execute_result"
    }
   ],
   "source": [
    "mat.dot(inv(mat))\n",
    "#  与自己的逆矩阵点积，就是E\n",
    "#  对角线为1，其余为0"
   ]
  },
  {
   "cell_type": "code",
   "execution_count": 54,
   "metadata": {},
   "outputs": [
    {
     "data": {
      "text/plain": [
       "array([[ -1.01748895,  -3.05952167,   3.2803446 ,  10.27488712,\n",
       "         -9.98770773],\n",
       "       [  0.        ,  -7.01499337,  10.5734616 ,  -2.03568161,\n",
       "         -3.71385772],\n",
       "       [  0.        ,   0.        ,  -4.20211221,  -5.94422432,\n",
       "          6.57336421],\n",
       "       [  0.        ,   0.        ,   0.        ,  -6.25255859,\n",
       "          2.03426731],\n",
       "       [  0.        ,   0.        ,   0.        ,   0.        ,\n",
       "          1.61332226]])"
      ]
     },
     "execution_count": 54,
     "metadata": {},
     "output_type": "execute_result"
    }
   ],
   "source": [
    "q,r=qr(mat)  # 计算QR分解\n",
    "r"
   ]
  },
  {
   "cell_type": "markdown",
   "metadata": {},
   "source": [
    "## 4.6 Pseudorandom Number Generation 伪随机数生成"
   ]
  },
  {
   "cell_type": "code",
   "execution_count": 56,
   "metadata": {},
   "outputs": [
    {
     "data": {
      "text/plain": [
       "array([[ 2.10986604, -0.81546863,  1.4919904 ,  1.39861464],\n",
       "       [-1.01373522,  0.85018374,  0.89207885, -0.35536934],\n",
       "       [ 0.39282758, -0.24173121, -0.20904887,  0.97157252],\n",
       "       [-0.23485191, -0.81498575,  0.20688074,  1.85517752]])"
      ]
     },
     "execution_count": 56,
     "metadata": {},
     "output_type": "execute_result"
    }
   ],
   "source": [
    "samples=np.random.normal(size=(4,4))\n",
    "#  4*4 ,正态分布\n",
    "samples"
   ]
  },
  {
   "cell_type": "code",
   "execution_count": 57,
   "metadata": {},
   "outputs": [
    {
     "name": "stdout",
     "output_type": "stream",
     "text": [
      "795 ms ± 26.1 ms per loop (mean ± std. dev. of 7 runs, 1 loop each)\n"
     ]
    }
   ],
   "source": [
    "from random import normalvariate  # 正态变量，Python函数\n",
    "N=1000000\n",
    "%timeit samples=[normalvariate(0,1) for _ in range(N)]"
   ]
  },
  {
   "cell_type": "code",
   "execution_count": 58,
   "metadata": {},
   "outputs": [
    {
     "name": "stdout",
     "output_type": "stream",
     "text": [
      "31 ms ± 1.18 ms per loop (mean ± std. dev. of 7 runs, 10 loops each)\n"
     ]
    }
   ],
   "source": [
    "%timeit np.random.normal(size=N)"
   ]
  },
  {
   "cell_type": "code",
   "execution_count": 60,
   "metadata": {},
   "outputs": [
    {
     "data": {
      "text/plain": [
       "array([ 0.47143516, -1.19097569,  1.43270697, -0.3126519 , -0.72058873,\n",
       "        0.88716294,  0.85958841, -0.6365235 ,  0.01569637, -2.24268495])"
      ]
     },
     "execution_count": 60,
     "metadata": {},
     "output_type": "execute_result"
    }
   ],
   "source": [
    "rng=np.random.RandomState(1234)\n",
    "rng.randn(10)"
   ]
  },
  {
   "cell_type": "markdown",
   "metadata": {},
   "source": [
    "## 4.7 Example: Random Walks 应用举例：随机漫步\n",
    "#### 模拟掷硬币100次，正面为1，反面为-1"
   ]
  },
  {
   "cell_type": "code",
   "execution_count": 61,
   "metadata": {
    "collapsed": true
   },
   "outputs": [],
   "source": [
    "import random\n",
    "import matplotlib.pyplot as plt\n",
    "position=0\n",
    "walk=[position]  #  这个是列表 walk[0]\n",
    "steps=1000 #  准备实验1000次\n",
    "for i in range(steps):\n",
    "    step=1 if random.randint(0,1) else -1\n",
    "    #  random.randint 取0或1\n",
    "    #  对应if False,True\n",
    "    #  对应step=-1 或1\n",
    "    position+=step\n",
    "    #  比如第一次 0+1=1\n",
    "    walk.append(position)\n",
    "    #  得到的值放在walk里"
   ]
  },
  {
   "cell_type": "code",
   "execution_count": 72,
   "metadata": {},
   "outputs": [
    {
     "data": {
      "text/plain": [
       "[<matplotlib.lines.Line2D at 0x1e1816c72b0>]"
      ]
     },
     "execution_count": 72,
     "metadata": {},
     "output_type": "execute_result"
    }
   ],
   "source": [
    "plt.plot(walk[:100])"
   ]
  },
  {
   "cell_type": "code",
   "execution_count": 73,
   "metadata": {},
   "outputs": [
    {
     "data": {
      "image/png": "[encoded data removed]",
      "text/plain": [
       "<matplotlib.figure.Figure at 0x1e181289c50>"
      ]
     },
     "metadata": {},
     "output_type": "display_data"
    }
   ],
   "source": [
    "plt.show()  "
   ]
  },
  {
   "cell_type": "code",
   "execution_count": 74,
   "metadata": {
    "collapsed": true
   },
   "outputs": [],
   "source": [
    "np.random.seed(12345)  # 给起点"
   ]
  },
  {
   "cell_type": "code",
   "execution_count": 77,
   "metadata": {},
   "outputs": [
    {
     "data": {
      "text/plain": [
       "array([0, 0, 0, 0, 1, 1, 1, 0, 0, 1, 0, 1, 0, 1, 0, 0, 0, 0, 1, 0, 0, 1, 1,\n",
       "       1, 0, 0, 0, 1, 1, 0, 1, 1, 0, 1, 0, 0, 0, 0, 0, 1, 0, 0, 1, 1, 1, 1,\n",
       "       1, 0, 0, 0, 1, 0, 0, 0, 1, 1, 1, 1, 0, 1, 0, 1, 1, 0, 1, 1, 0, 0, 1,\n",
       "       0, 1, 1, 1, 0, 1, 0, 1, 0, 0, 0, 0, 0, 0, 0, 0, 0, 1, 0, 0, 0, 1, 0,\n",
       "       0, 1, 1, 1, 1, 1, 1, 1])"
      ]
     },
     "execution_count": 77,
     "metadata": {},
     "output_type": "execute_result"
    }
   ],
   "source": [
    "nsteps=100\n",
    "draws=np.random.randint(0,2,size=nsteps)\n",
    "#  draws=array[0, 0, 0, 0, 1, 1, 1, 0,...]\n",
    "draws"
   ]
  },
  {
   "cell_type": "code",
   "execution_count": 78,
   "metadata": {},
   "outputs": [
    {
     "data": {
      "text/plain": [
       "array([-1, -1, -1, -1,  1,  1,  1, -1, -1,  1, -1,  1, -1,  1, -1, -1, -1,\n",
       "       -1,  1, -1, -1,  1,  1,  1, -1, -1, -1,  1,  1, -1,  1,  1, -1,  1,\n",
       "       -1, -1, -1, -1, -1,  1, -1, -1,  1,  1,  1,  1,  1, -1, -1, -1,  1,\n",
       "       -1, -1, -1,  1,  1,  1,  1, -1,  1, -1,  1,  1, -1,  1,  1, -1, -1,\n",
       "        1, -1,  1,  1,  1, -1,  1, -1,  1, -1, -1, -1, -1, -1, -1, -1, -1,\n",
       "       -1,  1, -1, -1, -1,  1, -1, -1,  1,  1,  1,  1,  1,  1,  1])"
      ]
     },
     "execution_count": 78,
     "metadata": {},
     "output_type": "execute_result"
    }
   ],
   "source": [
    "steps=np.where(draws>0,1,-1)\n",
    "#  draws>0=[True,False....]\n",
    "#  np.where(condition[,x,y]) 函数原型\n",
    "#  draws的某个位置为True时，输出x的对应位置的元素，否则选择y对应位置的元素\n",
    "#  steps=[1,1,-1,-1...]\n",
    "steps"
   ]
  },
  {
   "cell_type": "code",
   "execution_count": 79,
   "metadata": {},
   "outputs": [
    {
     "data": {
      "text/plain": [
       "array([ -1,  -2,  -3,  -4,  -3,  -2,  -1,  -2,  -3,  -2,  -3,  -2,  -3,\n",
       "        -2,  -3,  -4,  -5,  -6,  -5,  -6,  -7,  -6,  -5,  -4,  -5,  -6,\n",
       "        -7,  -6,  -5,  -6,  -5,  -4,  -5,  -4,  -5,  -6,  -7,  -8,  -9,\n",
       "        -8,  -9, -10,  -9,  -8,  -7,  -6,  -5,  -6,  -7,  -8,  -7,  -8,\n",
       "        -9, -10,  -9,  -8,  -7,  -6,  -7,  -6,  -7,  -6,  -5,  -6,  -5,\n",
       "        -4,  -5,  -6,  -5,  -6,  -5,  -4,  -3,  -4,  -3,  -4,  -3,  -4,\n",
       "        -5,  -6,  -7,  -8,  -9, -10, -11, -12, -11, -12, -13, -14, -13,\n",
       "       -14, -15, -14, -13, -12, -11, -10,  -9,  -8], dtype=int32)"
      ]
     },
     "execution_count": 79,
     "metadata": {},
     "output_type": "execute_result"
    }
   ],
   "source": [
    "walk=steps.cumsum()\n",
    "walk"
   ]
  },
  {
   "cell_type": "code",
   "execution_count": 81,
   "metadata": {},
   "outputs": [
    {
     "data": {
      "text/plain": [
       "-15"
      ]
     },
     "execution_count": 81,
     "metadata": {},
     "output_type": "execute_result"
    }
   ],
   "source": [
    "walk.min()"
   ]
  },
  {
   "cell_type": "code",
   "execution_count": 82,
   "metadata": {},
   "outputs": [
    {
     "data": {
      "text/plain": [
       "-1"
      ]
     },
     "execution_count": 82,
     "metadata": {},
     "output_type": "execute_result"
    }
   ],
   "source": [
    "walk.max()"
   ]
  },
  {
   "cell_type": "code",
   "execution_count": 85,
   "metadata": {},
   "outputs": [
    {
     "data": {
      "text/plain": [
       "array([False, False, False, False, False, False, False, False, False,\n",
       "       False, False, False, False, False, False, False, False, False,\n",
       "       False, False, False, False, False, False, False, False, False,\n",
       "       False, False, False, False, False, False, False, False, False,\n",
       "       False,  True,  True,  True,  True,  True,  True,  True, False,\n",
       "       False, False, False, False,  True, False,  True,  True,  True,\n",
       "        True,  True, False, False, False, False, False, False, False,\n",
       "       False, False, False, False, False, False, False, False, False,\n",
       "       False, False, False, False, False, False, False, False, False,\n",
       "        True,  True,  True,  True,  True,  True,  True,  True,  True,\n",
       "        True,  True,  True,  True,  True,  True,  True,  True,  True,  True], dtype=bool)"
      ]
     },
     "execution_count": 85,
     "metadata": {},
     "output_type": "execute_result"
    }
   ],
   "source": [
    "np.abs(walk)>=8"
   ]
  },
  {
   "cell_type": "code",
   "execution_count": 86,
   "metadata": {},
   "outputs": [
    {
     "data": {
      "text/plain": [
       "41"
      ]
     },
     "execution_count": 86,
     "metadata": {},
     "output_type": "execute_result"
    }
   ],
   "source": [
    "(np.abs(walk)>=10).argmax()\n",
    "#  也就是最大值第一次出现的位置\n",
    "#  也就是True第一次出现的位置"
   ]
  },
  {
   "cell_type": "markdown",
   "metadata": {},
   "source": [
    "#### 投掷硬币1000次，5000组实验同时做"
   ]
  },
  {
   "cell_type": "code",
   "execution_count": 87,
   "metadata": {},
   "outputs": [
    {
     "data": {
      "text/plain": [
       "(5000, 1000)"
      ]
     },
     "execution_count": 87,
     "metadata": {},
     "output_type": "execute_result"
    }
   ],
   "source": [
    "nwalks=5000\n",
    "nsteps=1000\n",
    "draws=np.random.randint(0,2,size=(nwalks,nsteps))  # 0 or 1\n",
    "draws.shape"
   ]
  },
  {
   "cell_type": "code",
   "execution_count": 88,
   "metadata": {},
   "outputs": [
    {
     "data": {
      "text/plain": [
       "array([[ 1,  1,  1, ..., -1,  1, -1],\n",
       "       [ 1,  1, -1, ...,  1,  1,  1],\n",
       "       [-1, -1, -1, ..., -1, -1,  1],\n",
       "       ..., \n",
       "       [-1,  1,  1, ..., -1, -1,  1],\n",
       "       [ 1, -1,  1, ...,  1,  1,  1],\n",
       "       [ 1,  1,  1, ..., -1, -1, -1]])"
      ]
     },
     "execution_count": 88,
     "metadata": {},
     "output_type": "execute_result"
    }
   ],
   "source": [
    "steps=np.where(draws>0,1,-1)\n",
    "steps"
   ]
  },
  {
   "cell_type": "code",
   "execution_count": 89,
   "metadata": {},
   "outputs": [
    {
     "data": {
      "text/plain": [
       "array([[  1,   2,   3, ...,  32,  33,  32],\n",
       "       [  1,   2,   1, ..., -12, -11, -10],\n",
       "       [ -1,  -2,  -3, ...,  36,  35,  36],\n",
       "       ..., \n",
       "       [ -1,   0,   1, ..., -30, -31, -30],\n",
       "       [  1,   0,   1, ...,  62,  63,  64],\n",
       "       [  1,   2,   3, ...,  10,   9,   8]], dtype=int32)"
      ]
     },
     "execution_count": 89,
     "metadata": {},
     "output_type": "execute_result"
    }
   ],
   "source": [
    "walks=steps.cumsum(1)\n",
    "walks  # 5000*1000 的数组"
   ]
  },
  {
   "cell_type": "code",
   "execution_count": 90,
   "metadata": {},
   "outputs": [
    {
     "data": {
      "text/plain": [
       "124"
      ]
     },
     "execution_count": 90,
     "metadata": {},
     "output_type": "execute_result"
    }
   ],
   "source": [
    "walks.max()"
   ]
  },
  {
   "cell_type": "code",
   "execution_count": 91,
   "metadata": {},
   "outputs": [
    {
     "data": {
      "text/plain": [
       "-124"
      ]
     },
     "execution_count": 91,
     "metadata": {},
     "output_type": "execute_result"
    }
   ],
   "source": [
    "walks.min()"
   ]
  },
  {
   "cell_type": "code",
   "execution_count": 92,
   "metadata": {},
   "outputs": [
    {
     "data": {
      "text/plain": [
       "array([[False, False, False, ...,  True,  True,  True],\n",
       "       [False, False, False, ..., False, False, False],\n",
       "       [False, False, False, ...,  True,  True,  True],\n",
       "       ..., \n",
       "       [False, False, False, ...,  True,  True,  True],\n",
       "       [False, False, False, ...,  True,  True,  True],\n",
       "       [False, False, False, ..., False, False, False]], dtype=bool)"
      ]
     },
     "execution_count": 92,
     "metadata": {},
     "output_type": "execute_result"
    }
   ],
   "source": [
    "np.abs(walks)>=30\n",
    "#  返回一个布尔值的数组"
   ]
  },
  {
   "cell_type": "code",
   "execution_count": 93,
   "metadata": {},
   "outputs": [
    {
     "data": {
      "text/plain": [
       "array([ True, False,  True, ...,  True,  True, False], dtype=bool)"
      ]
     },
     "execution_count": 93,
     "metadata": {},
     "output_type": "execute_result"
    }
   ],
   "source": [
    "hits30=(np.abs(walks)>=30).any(1)\n",
    "#  trys.any(1)\n",
    "#  横着，沿axis=1方向\n",
    "#  横着一排判断一次\n",
    "hits30"
   ]
  },
  {
   "cell_type": "code",
   "execution_count": 94,
   "metadata": {},
   "outputs": [
    {
     "data": {
      "text/plain": [
       "5000"
      ]
     },
     "execution_count": 94,
     "metadata": {},
     "output_type": "execute_result"
    }
   ],
   "source": [
    "len(hits30) \n",
    "#  我们这个例子里时5000*1000的数组，any(1),所以得到的时1*5000"
   ]
  },
  {
   "cell_type": "code",
   "execution_count": 95,
   "metadata": {},
   "outputs": [
    {
     "data": {
      "text/plain": [
       "3387"
      ]
     },
     "execution_count": 95,
     "metadata": {},
     "output_type": "execute_result"
    }
   ],
   "source": [
    "hits30.sum()\n",
    "#  Number that hit 30 or -30\n",
    "#  就是5000个值里面有多少个True\n",
    "#  5000组实验里，有多少组跨过了30"
   ]
  },
  {
   "cell_type": "code",
   "execution_count": 96,
   "metadata": {},
   "outputs": [
    {
     "data": {
      "text/plain": [
       "array([[  1,   2,   3, ...,  32,  33,  32],\n",
       "       [ -1,  -2,  -3, ...,  36,  35,  36],\n",
       "       [ -1,   0,   1, ...,  58,  59,  60],\n",
       "       ..., \n",
       "       [ -1,   0,   1, ...,  20,  19,  18],\n",
       "       [ -1,   0,   1, ..., -30, -31, -30],\n",
       "       [  1,   0,   1, ...,  62,  63,  64]], dtype=int32)"
      ]
     },
     "execution_count": 96,
     "metadata": {},
     "output_type": "execute_result"
    }
   ],
   "source": [
    "walks[hits30]\n",
    "#  一个判断的索引\n",
    "#  这里是一个布尔索引，跟前面的Fancy Index类似\n",
    "#  Ture对应的留下来，False对应的不要"
   ]
  },
  {
   "cell_type": "code",
   "execution_count": 97,
   "metadata": {},
   "outputs": [
    {
     "data": {
      "text/plain": [
       "(3387, 1000)"
      ]
     },
     "execution_count": 97,
     "metadata": {},
     "output_type": "execute_result"
    }
   ],
   "source": [
    "walks[hits30].shape #True的都留了下来"
   ]
  },
  {
   "cell_type": "code",
   "execution_count": 98,
   "metadata": {},
   "outputs": [
    {
     "data": {
      "text/plain": [
       "array([863, 459, 207, ..., 201, 937, 163], dtype=int64)"
      ]
     },
     "execution_count": 98,
     "metadata": {},
     "output_type": "execute_result"
    }
   ],
   "source": [
    "crossing_times=(np.abs(walks[hits30])>=30).argmax(1)\n",
    "crossing_times\n",
    "#  在跨过了30的这些组里，第一次出现True的位置\n",
    "#  3387个数"
   ]
  },
  {
   "cell_type": "code",
   "execution_count": 99,
   "metadata": {},
   "outputs": [
    {
     "data": {
      "text/plain": [
       "496.55535872453498"
      ]
     },
     "execution_count": 99,
     "metadata": {},
     "output_type": "execute_result"
    }
   ],
   "source": [
    "crossing_times.mean()  #  将这个数取平均值"
   ]
  },
  {
   "cell_type": "markdown",
   "metadata": {},
   "source": [
    "### 正态分布生成随机漫步\n",
    "#### loc:float\n",
    "#### 此概率分布的均值(对应着整个分布的中心center)\n",
    "#### scale:float\n",
    "#### 此概率分布的标准差(对应着分布的密度，scale越大越矮胖，scale越小，越瘦高)\n",
    "#### size:int or tuple if ints\n",
    "#### 输出的shape，默认为None，只输出一个值"
   ]
  },
  {
   "cell_type": "code",
   "execution_count": 100,
   "metadata": {},
   "outputs": [
    {
     "data": {
      "text/plain": [
       "array([[-0.17428716,  0.18688339, -0.3462483 ,  0.28473029,  0.05039263,\n",
       "         0.16860283,  0.40914438,  0.34357223,  0.08426118,  0.12131367],\n",
       "       [-0.19038205, -0.1103541 ,  0.28227701, -0.12192996,  0.12749466,\n",
       "         0.32049487, -0.17886236, -0.14420103, -0.18349189,  0.52127634],\n",
       "       [-0.31483805,  0.06621632, -0.52922856,  0.08688036,  0.07889522,\n",
       "         0.71946335,  0.25962857, -0.24798871,  0.42559639,  0.05829662]])"
      ]
     },
     "execution_count": 100,
     "metadata": {},
     "output_type": "execute_result"
    }
   ],
   "source": [
    "nwalks=3\n",
    "nsteps=10\n",
    "steps=np.random.normal(loc=0,scale=0.25,\n",
    "                      size=(nwalks,nsteps))\n",
    "steps"
   ]
  },
  {
   "cell_type": "markdown",
   "metadata": {},
   "source": [
    "### 理解seed:\n",
    "#### seed(n)就是根据n生成一个random数组\n",
    "#### 比如一个低级的随机算法\n",
    "#### n一样 数组也是一样的\n",
    "#### random那样的函数就当成是迭代\n",
    "#### 每次random就是往后取一个数字\n",
    "#### 123随机一个数\n",
    "#### 6种排列组合123 132 213 231 312 321\n",
    "#### 可以想成seed(0) 到seed(5)对应一种"
   ]
  },
  {
   "cell_type": "code",
   "execution_count": 105,
   "metadata": {},
   "outputs": [
    {
     "name": "stdout",
     "output_type": "stream",
     "text": [
      "0.22199317108973948\n",
      "0.8707323061773764\n",
      "0.20671915533942642\n",
      "0.9186109079379216\n",
      "0.48841118879482914\n"
     ]
    }
   ],
   "source": [
    "from numpy import *\n",
    "num=0\n",
    "random.seed(5)\n",
    "while(num<5):\n",
    "    print(random.random())\n",
    "    num+=1"
   ]
  },
  {
   "cell_type": "code",
   "execution_count": 106,
   "metadata": {},
   "outputs": [
    {
     "name": "stdout",
     "output_type": "stream",
     "text": [
      "0.22199317108973948\n",
      "0.8707323061773764\n",
      "0.20671915533942642\n",
      "0.9186109079379216\n",
      "0.48841118879482914\n"
     ]
    }
   ],
   "source": [
    "from numpy import *\n",
    "num=0\n",
    "random.seed(5)\n",
    "while(num<5):\n",
    "    print(random.random())\n",
    "    num+=1"
   ]
  },
  {
   "cell_type": "code",
   "execution_count": null,
   "metadata": {
    "collapsed": true
   },
   "outputs": [],
   "source": []
  }
 ],
 "metadata": {
  "kernelspec": {
   "display_name": "Python 3",
   "language": "python",
   "name": "python3"
  },
  "language_info": {
   "codemirror_mode": {
    "name": "ipython",
    "version": 3
   },
   "file_extension": ".py",
   "mimetype": "text/x-python",
   "name": "python",
   "nbconvert_exporter": "python",
   "pygments_lexer": "ipython3",
   "version": "3.6.3"
  }
 },
 "nbformat": 4,
 "nbformat_minor": 2
}
